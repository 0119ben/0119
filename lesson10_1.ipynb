{
 "cells": [
  {
   "cell_type": "code",
   "execution_count": null,
   "metadata": {},
   "outputs": [],
   "source": [
    "import csv\n",
    "\n",
    "with open(\"學生成績表1.csv\",mode='r',encoding=\"utf-8\",newline=\"\") as file:\n",
    "    csvReader = csv.reader(file)\n",
    "    next(csvReader)    \n",
    "    #for row in csvReader:\n",
    "    #    print(row)\n",
    "    students = list(csvReader)\n",
    "students"
   ]
  }
 ],
 "metadata": {
  "kernelspec": {
   "display_name": "Python 3",
   "language": "python",
   "name": "python3"
  },
  "language_info": {
   "name": "python",
   "version": "3.10.13"
  },
  "orig_nbformat": 4
 },
 "nbformat": 4,
 "nbformat_minor": 2
}
