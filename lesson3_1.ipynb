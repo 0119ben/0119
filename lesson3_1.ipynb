{
 "cells": [
  {
   "cell_type": "code",
   "execution_count": 1,
   "metadata": {},
   "outputs": [
    {
     "ename": "ValueError",
     "evalue": "could not convert string to float: ''",
     "output_type": "error",
     "traceback": [
      "\u001b[0;31m---------------------------------------------------------------------------\u001b[0m",
      "\u001b[0;31mValueError\u001b[0m                                Traceback (most recent call last)",
      "\u001b[1;32m/workspaces/0119/lesson3_1.ipynb 儲存格 1\u001b[0m line \u001b[0;36m8\n\u001b[1;32m      <a href='vscode-notebook-cell://codespaces%2Bstunning-giggle-x5wx97xq597pcp6jj/workspaces/0119/lesson3_1.ipynb#W0sdnNjb2RlLXJlbW90ZQ%3D%3D?line=0'>1</a>\u001b[0m \u001b[39m#高中數學\u001b[39;00m\n\u001b[1;32m      <a href='vscode-notebook-cell://codespaces%2Bstunning-giggle-x5wx97xq597pcp6jj/workspaces/0119/lesson3_1.ipynb#W0sdnNjb2RlLXJlbW90ZQ%3D%3D?line=1'>2</a>\u001b[0m \u001b[39m#讓使用者輸入直角三角形的對邊\u001b[39;00m\n\u001b[1;32m      <a href='vscode-notebook-cell://codespaces%2Bstunning-giggle-x5wx97xq597pcp6jj/workspaces/0119/lesson3_1.ipynb#W0sdnNjb2RlLXJlbW90ZQ%3D%3D?line=2'>3</a>\u001b[0m \u001b[39m#讓使用者輸入直角三角形的斜邊\u001b[39;00m\n\u001b[1;32m      <a href='vscode-notebook-cell://codespaces%2Bstunning-giggle-x5wx97xq597pcp6jj/workspaces/0119/lesson3_1.ipynb#W0sdnNjb2RlLXJlbW90ZQ%3D%3D?line=3'>4</a>\u001b[0m \u001b[39m#計算角度\u001b[39;00m\n\u001b[1;32m      <a href='vscode-notebook-cell://codespaces%2Bstunning-giggle-x5wx97xq597pcp6jj/workspaces/0119/lesson3_1.ipynb#W0sdnNjb2RlLXJlbW90ZQ%3D%3D?line=5'>6</a>\u001b[0m \u001b[39mimport\u001b[39;00m \u001b[39mmath\u001b[39;00m\n\u001b[0;32m----> <a href='vscode-notebook-cell://codespaces%2Bstunning-giggle-x5wx97xq597pcp6jj/workspaces/0119/lesson3_1.ipynb#W0sdnNjb2RlLXJlbW90ZQ%3D%3D?line=7'>8</a>\u001b[0m side \u001b[39m=\u001b[39m \u001b[39mfloat\u001b[39;49m(\u001b[39minput\u001b[39;49m(\u001b[39m'\u001b[39;49m\u001b[39m請輸入對邊:\u001b[39;49m\u001b[39m'\u001b[39;49m))\n\u001b[1;32m      <a href='vscode-notebook-cell://codespaces%2Bstunning-giggle-x5wx97xq597pcp6jj/workspaces/0119/lesson3_1.ipynb#W0sdnNjb2RlLXJlbW90ZQ%3D%3D?line=8'>9</a>\u001b[0m another_side \u001b[39m=\u001b[39m \u001b[39mfloat\u001b[39m(\u001b[39minput\u001b[39m(\u001b[39m'\u001b[39m\u001b[39m請輸入斜邊:\u001b[39m\u001b[39m'\u001b[39m))\n\u001b[1;32m     <a href='vscode-notebook-cell://codespaces%2Bstunning-giggle-x5wx97xq597pcp6jj/workspaces/0119/lesson3_1.ipynb#W0sdnNjb2RlLXJlbW90ZQ%3D%3D?line=9'>10</a>\u001b[0m radian \u001b[39m=\u001b[39m math\u001b[39m.\u001b[39masin(side \u001b[39m/\u001b[39m another_side)\n",
      "\u001b[0;31mValueError\u001b[0m: could not convert string to float: ''"
     ]
    }
   ],
   "source": [
    "#高中數學\n",
    "#讓使用者輸入直角三角形的對邊\n",
    "#讓使用者輸入直角三角形的斜邊\n",
    "#計算角度\n",
    "\n",
    "import math\n",
    "\n",
    "side = float(input('請輸入對邊:'))\n",
    "another_side = float(input('請輸入斜邊:'))\n",
    "radian = math.asin(side / another_side)\n",
    "degree = math.degrees(radian)\n",
    "print(f'對邊:{side},斜邊:{another_side}')\n",
    "print(f'弳度是:{radian:.3f},角度是:{round(degree)}')"
   ]
  }
 ],
 "metadata": {
  "kernelspec": {
   "display_name": "Python 3",
   "language": "python",
   "name": "python3"
  },
  "language_info": {
   "codemirror_mode": {
    "name": "ipython",
    "version": 3
   },
   "file_extension": ".py",
   "mimetype": "text/x-python",
   "name": "python",
   "nbconvert_exporter": "python",
   "pygments_lexer": "ipython3",
   "version": "3.10.13"
  },
  "orig_nbformat": 4
 },
 "nbformat": 4,
 "nbformat_minor": 2
}
